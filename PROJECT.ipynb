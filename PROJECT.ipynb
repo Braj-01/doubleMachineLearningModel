{
  "nbformat": 4,
  "nbformat_minor": 0,
  "metadata": {
    "colab": {
      "provenance": [],
      "include_colab_link": true
    },
    "kernelspec": {
      "name": "python3",
      "display_name": "Python 3"
    },
    "language_info": {
      "name": "python"
    }
  },
  "cells": [
    {
      "cell_type": "markdown",
      "metadata": {
        "id": "view-in-github",
        "colab_type": "text"
      },
      "source": [
        "<a href=\"https://colab.research.google.com/github/Braj-01/doubleMachineLearningModel/blob/main/PROJECT.ipynb\" target=\"_parent\"><img src=\"https://colab.research.google.com/assets/colab-badge.svg\" alt=\"Open In Colab\"/></a>"
      ]
    },
    {
      "cell_type": "code",
      "execution_count": 1,
      "metadata": {
        "colab": {
          "base_uri": "https://localhost:8080/"
        },
        "id": "pOFaWpAzwhH8",
        "outputId": "39929a05-e6ef-4abf-805d-c4321f458b80"
      },
      "outputs": [
        {
          "output_type": "stream",
          "name": "stdout",
          "text": [
            "Requirement already satisfied: econml in /usr/local/lib/python3.11/dist-packages (0.15.1)\n",
            "Requirement already satisfied: causalml in /usr/local/lib/python3.11/dist-packages (0.15.4)\n",
            "Requirement already satisfied: scikit-learn in /usr/local/lib/python3.11/dist-packages (1.5.2)\n",
            "Requirement already satisfied: pandas in /usr/local/lib/python3.11/dist-packages (2.2.2)\n",
            "Requirement already satisfied: statsmodels in /usr/local/lib/python3.11/dist-packages (0.14.4)\n",
            "Requirement already satisfied: matplotlib in /usr/local/lib/python3.11/dist-packages (3.10.0)\n",
            "Requirement already satisfied: numpy<2 in /usr/local/lib/python3.11/dist-packages (from econml) (1.26.4)\n",
            "Requirement already satisfied: scipy>1.4.0 in /usr/local/lib/python3.11/dist-packages (from econml) (1.15.3)\n",
            "Requirement already satisfied: sparse in /usr/local/lib/python3.11/dist-packages (from econml) (0.17.0)\n",
            "Requirement already satisfied: joblib>=0.13.0 in /usr/local/lib/python3.11/dist-packages (from econml) (1.5.1)\n",
            "Requirement already satisfied: shap<0.44.0,>=0.38.1 in /usr/local/lib/python3.11/dist-packages (from econml) (0.43.0)\n",
            "Requirement already satisfied: lightgbm in /usr/local/lib/python3.11/dist-packages (from econml) (4.5.0)\n",
            "Requirement already satisfied: packaging in /usr/local/lib/python3.11/dist-packages (from econml) (24.2)\n",
            "Requirement already satisfied: forestci==0.6 in /usr/local/lib/python3.11/dist-packages (from causalml) (0.6)\n",
            "Requirement already satisfied: pathos==0.2.9 in /usr/local/lib/python3.11/dist-packages (from causalml) (0.2.9)\n",
            "Requirement already satisfied: pip>=10.0 in /usr/local/lib/python3.11/dist-packages (from causalml) (24.1.2)\n",
            "Requirement already satisfied: Cython in /usr/local/lib/python3.11/dist-packages (from causalml) (3.0.12)\n",
            "Requirement already satisfied: seaborn in /usr/local/lib/python3.11/dist-packages (from causalml) (0.13.2)\n",
            "Requirement already satisfied: xgboost in /usr/local/lib/python3.11/dist-packages (from causalml) (2.1.4)\n",
            "Requirement already satisfied: pydotplus in /usr/local/lib/python3.11/dist-packages (from causalml) (2.0.2)\n",
            "Requirement already satisfied: tqdm in /usr/local/lib/python3.11/dist-packages (from causalml) (4.67.1)\n",
            "Requirement already satisfied: dill in /usr/local/lib/python3.11/dist-packages (from causalml) (0.3.7)\n",
            "Requirement already satisfied: graphviz in /usr/local/lib/python3.11/dist-packages (from causalml) (0.21)\n",
            "Requirement already satisfied: ppft>=1.7.6.5 in /usr/local/lib/python3.11/dist-packages (from pathos==0.2.9->causalml) (1.7.7)\n",
            "Requirement already satisfied: pox>=0.3.1 in /usr/local/lib/python3.11/dist-packages (from pathos==0.2.9->causalml) (0.3.6)\n",
            "Requirement already satisfied: multiprocess>=0.70.13 in /usr/local/lib/python3.11/dist-packages (from pathos==0.2.9->causalml) (0.70.15)\n",
            "Requirement already satisfied: threadpoolctl>=3.1.0 in /usr/local/lib/python3.11/dist-packages (from scikit-learn) (3.6.0)\n",
            "Requirement already satisfied: python-dateutil>=2.8.2 in /usr/local/lib/python3.11/dist-packages (from pandas) (2.9.0.post0)\n",
            "Requirement already satisfied: pytz>=2020.1 in /usr/local/lib/python3.11/dist-packages (from pandas) (2025.2)\n",
            "Requirement already satisfied: tzdata>=2022.7 in /usr/local/lib/python3.11/dist-packages (from pandas) (2025.2)\n",
            "Requirement already satisfied: patsy>=0.5.6 in /usr/local/lib/python3.11/dist-packages (from statsmodels) (1.0.1)\n",
            "Requirement already satisfied: contourpy>=1.0.1 in /usr/local/lib/python3.11/dist-packages (from matplotlib) (1.3.2)\n",
            "Requirement already satisfied: cycler>=0.10 in /usr/local/lib/python3.11/dist-packages (from matplotlib) (0.12.1)\n",
            "Requirement already satisfied: fonttools>=4.22.0 in /usr/local/lib/python3.11/dist-packages (from matplotlib) (4.58.4)\n",
            "Requirement already satisfied: kiwisolver>=1.3.1 in /usr/local/lib/python3.11/dist-packages (from matplotlib) (1.4.8)\n",
            "Requirement already satisfied: pillow>=8 in /usr/local/lib/python3.11/dist-packages (from matplotlib) (11.2.1)\n",
            "Requirement already satisfied: pyparsing>=2.3.1 in /usr/local/lib/python3.11/dist-packages (from matplotlib) (3.2.3)\n",
            "Requirement already satisfied: six>=1.5 in /usr/local/lib/python3.11/dist-packages (from python-dateutil>=2.8.2->pandas) (1.17.0)\n",
            "Requirement already satisfied: slicer==0.0.7 in /usr/local/lib/python3.11/dist-packages (from shap<0.44.0,>=0.38.1->econml) (0.0.7)\n",
            "Requirement already satisfied: numba in /usr/local/lib/python3.11/dist-packages (from shap<0.44.0,>=0.38.1->econml) (0.60.0)\n",
            "Requirement already satisfied: cloudpickle in /usr/local/lib/python3.11/dist-packages (from shap<0.44.0,>=0.38.1->econml) (3.1.1)\n",
            "Requirement already satisfied: nvidia-nccl-cu12 in /usr/local/lib/python3.11/dist-packages (from xgboost->causalml) (2.21.5)\n",
            "Requirement already satisfied: llvmlite<0.44,>=0.43.0dev0 in /usr/local/lib/python3.11/dist-packages (from numba->shap<0.44.0,>=0.38.1->econml) (0.43.0)\n"
          ]
        }
      ],
      "source": [
        "!pip install econml causalml scikit-learn pandas statsmodels matplotlib\n"
      ]
    },
    {
      "cell_type": "code",
      "source": [
        "import pandas as pd\n",
        "import numpy as np\n"
      ],
      "metadata": {
        "id": "0Zmqtw6Ow2x9"
      },
      "execution_count": 2,
      "outputs": []
    },
    {
      "cell_type": "code",
      "source": [
        "from sklearn.ensemble import GradientBoostingRegressor, GradientBoostingClassifier\n",
        "from sklearn.preprocessing import StandardScaler\n",
        "from econml.dml import LinearDML\n",
        "import statsmodels.api as sm"
      ],
      "metadata": {
        "id": "c_E1PZxLw75S"
      },
      "execution_count": 3,
      "outputs": []
    },
    {
      "cell_type": "code",
      "source": [
        "from econml.dml import CausalForestDML\n",
        "import matplotlib.pyplot as plt"
      ],
      "metadata": {
        "id": "RtrgoagyxC2B"
      },
      "execution_count": 4,
      "outputs": []
    },
    {
      "cell_type": "markdown",
      "source": [
        "**Data Loading and Preprocessing**"
      ],
      "metadata": {
        "id": "ogKQdL46xId4"
      }
    },
    {
      "cell_type": "code",
      "source": [
        "df = pd.read_csv(\"india_yearly_full_release_long_format.csv\")"
      ],
      "metadata": {
        "id": "fVCWA80oxGYJ"
      },
      "execution_count": 5,
      "outputs": []
    },
    {
      "cell_type": "code",
      "source": [
        "# Filter only \"Capacity\" category\n",
        "df_capacity = df[df[\"Category\"] == \"Capacity\"]\n"
      ],
      "metadata": {
        "id": "eM4kV6sFxOBY"
      },
      "execution_count": 6,
      "outputs": []
    },
    {
      "cell_type": "code",
      "source": [
        "# Pivot to wide format: one row per (State, Year)\n",
        "df_pivot = df_capacity.pivot_table(\n",
        "    index=[\"State\", \"Year\"],\n",
        "    columns=\"Variable\",\n",
        "    values=\"Value\",\n",
        "    aggfunc=\"sum\"\n",
        ").reset_index()"
      ],
      "metadata": {
        "id": "u_OwgYKzxRnb"
      },
      "execution_count": 7,
      "outputs": []
    },
    {
      "cell_type": "code",
      "source": [
        "# Rename relevant columns\n",
        "df_pivot = df_pivot.rename(columns={\n",
        "    'Clean': 'Capacity_Clean',\n",
        "    'Fossil': 'Capacity_Fossil',\n",
        "    'Renewables': 'Capacity_Renewables',\n",
        "    'Gas and Other Fossil': 'Capacity_Gas_Other',\n",
        "    'Hydro, Bioenergy and Other Renewables': 'Capacity_Other_Renewables'\n",
        "})"
      ],
      "metadata": {
        "id": "XDsmu_2XxUcL"
      },
      "execution_count": 8,
      "outputs": []
    },
    {
      "cell_type": "code",
      "source": [
        "# Define Treatment:\n",
        "treated_states = ['Tamil Nadu', 'Gujarat', 'Rajasthan', 'Karnataka', 'Maharashtra']\n",
        "df_pivot['Treatment'] = df_pivot['State'].isin(treated_states).astype(int)\n"
      ],
      "metadata": {
        "id": "o7_qYm0WxXiE"
      },
      "execution_count": 9,
      "outputs": []
    },
    {
      "cell_type": "code",
      "source": [
        "# Drop rows with missing values\n",
        "df_model = df_pivot.dropna(subset=[\n",
        "    'Capacity_Renewables', 'Capacity_Fossil',\n",
        "    'Capacity_Clean', 'Capacity_Gas_Other', 'Capacity_Other_Renewables'\n",
        "])\n",
        "print(df_model['Treatment'].value_counts())\n"
      ],
      "metadata": {
        "colab": {
          "base_uri": "https://localhost:8080/"
        },
        "id": "I1vBllq_xaYs",
        "outputId": "df71e8ad-d887-4c60-d373-5ba127c7fb59"
      },
      "execution_count": 10,
      "outputs": [
        {
          "output_type": "stream",
          "name": "stdout",
          "text": [
            "Treatment\n",
            "0    187\n",
            "1     30\n",
            "Name: count, dtype: int64\n"
          ]
        }
      ]
    },
    {
      "cell_type": "code",
      "source": [
        "# Define outcome, treatment, and covariates\n",
        "Y = df_model[\"Capacity_Renewables\"].values\n",
        "T = df_model[\"Treatment\"].values\n",
        "X = df_model[[\n",
        "    \"Capacity_Fossil\", \"Capacity_Clean\",\n",
        "    \"Capacity_Gas_Other\", \"Capacity_Other_Renewables\"\n",
        "]].fillna(0).values"
      ],
      "metadata": {
        "id": "xePJhz2RxcoA"
      },
      "execution_count": 11,
      "outputs": []
    },
    {
      "cell_type": "markdown",
      "source": [
        "**OLS and DML**"
      ],
      "metadata": {
        "id": "QsyvPUCqxm4_"
      }
    },
    {
      "cell_type": "code",
      "source": [
        "#  OLS\n",
        "X_ols = sm.add_constant(X)\n",
        "ols_model = sm.OLS(Y, X_ols[:, [0, 1]]).fit()  # only const + Treatment\n",
        "print(\"OLS Summary:\\n\", ols_model.summary())"
      ],
      "metadata": {
        "colab": {
          "base_uri": "https://localhost:8080/"
        },
        "id": "Bh5QCvNZxfoJ",
        "outputId": "028515d4-7ccb-418b-d4d4-df1e2eea9c67"
      },
      "execution_count": 12,
      "outputs": [
        {
          "output_type": "stream",
          "name": "stdout",
          "text": [
            "OLS Summary:\n",
            "                             OLS Regression Results                            \n",
            "==============================================================================\n",
            "Dep. Variable:                      y   R-squared:                       0.932\n",
            "Model:                            OLS   Adj. R-squared:                  0.932\n",
            "Method:                 Least Squares   F-statistic:                     2942.\n",
            "Date:                Mon, 07 Jul 2025   Prob (F-statistic):          2.06e-127\n",
            "Time:                        01:30:28   Log-Likelihood:                -2231.9\n",
            "No. Observations:                 217   AIC:                             4468.\n",
            "Df Residuals:                     215   BIC:                             4475.\n",
            "Df Model:                           1                                         \n",
            "Covariance Type:            nonrobust                                         \n",
            "==============================================================================\n",
            "                 coef    std err          t      P>|t|      [0.025      0.975]\n",
            "------------------------------------------------------------------------------\n",
            "const        133.6515    510.378      0.262      0.794    -872.333    1139.636\n",
            "x1             0.6791      0.013     54.241      0.000       0.654       0.704\n",
            "==============================================================================\n",
            "Omnibus:                       69.802   Durbin-Watson:                   0.665\n",
            "Prob(Omnibus):                  0.000   Jarque-Bera (JB):              505.301\n",
            "Skew:                           1.016   Prob(JB):                    1.89e-110\n",
            "Kurtosis:                      10.194   Cond. No.                     4.30e+04\n",
            "==============================================================================\n",
            "\n",
            "Notes:\n",
            "[1] Standard Errors assume that the covariance matrix of the errors is correctly specified.\n",
            "[2] The condition number is large, 4.3e+04. This might indicate that there are\n",
            "strong multicollinearity or other numerical problems.\n"
          ]
        }
      ]
    },
    {
      "cell_type": "code",
      "source": [
        "# -------- Double Machine Learning ----------\n",
        "dml = LinearDML(\n",
        "    model_y=GradientBoostingRegressor(n_estimators=100, max_depth=3, random_state=42),\n",
        "    model_t=GradientBoostingClassifier(n_estimators=100, max_depth=3, random_state=42),\n",
        "    discrete_treatment=True,\n",
        "    random_state=123\n",
        ")\n"
      ],
      "metadata": {
        "id": "3wILS1qFxrii"
      },
      "execution_count": 13,
      "outputs": []
    },
    {
      "cell_type": "code",
      "source": [
        "dml.fit(Y, T, X=X)\n",
        "\n"
      ],
      "metadata": {
        "colab": {
          "base_uri": "https://localhost:8080/"
        },
        "id": "2IFXCrNWyJcA",
        "outputId": "fe822b1c-552b-4fac-bb4d-2fea83f76926"
      },
      "execution_count": 14,
      "outputs": [
        {
          "output_type": "execute_result",
          "data": {
            "text/plain": [
              "<econml.dml.dml.LinearDML at 0x78f0d8ac7410>"
            ]
          },
          "metadata": {},
          "execution_count": 14
        }
      ]
    },
    {
      "cell_type": "code",
      "source": [
        "ate_dml = dml.effect(X)\n",
        "ate_ci = dml.effect_interval(X)\n"
      ],
      "metadata": {
        "id": "rdeVviqIyPRJ"
      },
      "execution_count": 15,
      "outputs": []
    },
    {
      "cell_type": "code",
      "source": [
        "ate_dml = ate_dml / 1000  # convert to GW for example\n"
      ],
      "metadata": {
        "id": "XZKuzS3M0kix"
      },
      "execution_count": 16,
      "outputs": []
    },
    {
      "cell_type": "code",
      "source": [
        "print(f\"\\nDML Estimated ATE (mean): {np.mean(ate_dml):.4f}\")\n",
        "print(f\"DML 95% CI: [{ate_ci[0].mean():.4f}, {ate_ci[1].mean():.4f}]\")"
      ],
      "metadata": {
        "colab": {
          "base_uri": "https://localhost:8080/"
        },
        "id": "_KjuBzWWzv_u",
        "outputId": "c0a060ec-12aa-4390-bbb0-5cbe4565be47"
      },
      "execution_count": 17,
      "outputs": [
        {
          "output_type": "stream",
          "name": "stdout",
          "text": [
            "\n",
            "DML Estimated ATE (mean): 687.5944\n",
            "DML 95% CI: [-5116025.1704, 6491213.9341]\n"
          ]
        }
      ]
    },
    {
      "cell_type": "markdown",
      "source": [
        "**Causal Forest and Plotting**"
      ],
      "metadata": {
        "id": "0F2hsdSozy2i"
      }
    },
    {
      "cell_type": "code",
      "source": [
        "# -------- Causal Forest ----------\n",
        "cf = CausalForestDML(\n",
        "    model_y=GradientBoostingRegressor(n_estimators=100, max_depth=3, random_state=42),\n",
        "    model_t=GradientBoostingClassifier(n_estimators=100, max_depth=3, random_state=42),\n",
        "    discrete_treatment=True,\n",
        "    n_estimators=1000,\n",
        "    min_samples_leaf=10,\n",
        "    max_depth=10,\n",
        "    random_state=123\n",
        ")"
      ],
      "metadata": {
        "id": "3ClD5d7Uzz1g"
      },
      "execution_count": 18,
      "outputs": []
    },
    {
      "cell_type": "code",
      "source": [
        "cf.fit(Y, T, X=X)\n",
        "cate_cf = cf.effect(X)"
      ],
      "metadata": {
        "id": "SJhRBATez3BB"
      },
      "execution_count": 19,
      "outputs": []
    },
    {
      "cell_type": "code",
      "source": [
        "print(f\"Causal Forest CATE shape: {cate_cf.shape}\")\n",
        "print(f\"First 5 CATE estimates: {cate_cf[:5].round(4)}\")"
      ],
      "metadata": {
        "colab": {
          "base_uri": "https://localhost:8080/"
        },
        "id": "nDeq-IFCz6Qy",
        "outputId": "e6ece9a0-2de7-4c18-ed95-ea648ef62bf7"
      },
      "execution_count": 20,
      "outputs": [
        {
          "output_type": "stream",
          "name": "stdout",
          "text": [
            "Causal Forest CATE shape: (217,)\n",
            "First 5 CATE estimates: [-682.112  -682.112  -682.112  -686.5367 -686.5367]\n"
          ]
        }
      ]
    },
    {
      "cell_type": "code",
      "source": [
        "# -------- Plot all three results ----------\n",
        "plt.figure(figsize=(10, 6))\n",
        "plt.axhline(y=np.mean(ate_dml), color='blue', linestyle='--', label=f'DML ATE: {np.mean(ate_dml):.2f}')\n",
        "plt.axhline(y=ols_model.params[1], color='green', linestyle='--', label=f'OLS Effect: {ols_model.params[1]:.2f}')\n",
        "plt.plot(cate_cf, color='red', alpha=0.6, label='Causal Forest CATE')\n",
        "plt.xlabel('Sample Index')\n",
        "plt.ylabel('Estimated Treatment Effect')\n",
        "plt.title('Comparison: OLS vs DML vs Causal Forest')\n",
        "plt.legend()\n",
        "plt.grid(True)\n",
        "plt.tight_layout()\n",
        "plt.show()"
      ],
      "metadata": {
        "colab": {
          "base_uri": "https://localhost:8080/",
          "height": 527
        },
        "id": "B6NCERSnz9Af",
        "outputId": "5161a6f2-281f-4209-c853-2b7205e41895"
      },
      "execution_count": 21,
      "outputs": [
        {
          "output_type": "display_data",
          "data": {
            "text/plain": [
              "<Figure size 1000x600 with 1 Axes>"
            ],
            "image/png": "[encoded data removed]"
          },
          "metadata": {}
        }
      ]
    },
    {
      "cell_type": "code",
      "source": [
        "import matplotlib.pyplot as plt\n",
        "plt.hist(cate_cf, bins=20)\n",
        "plt.title(\"Distribution of Causal Forest CATEs\")\n",
        "plt.xlabel(\"Estimated Effect\")\n",
        "plt.ylabel(\"Number of States\")\n",
        "plt.grid(True)\n",
        "plt.show()\n"
      ],
      "metadata": {
        "colab": {
          "base_uri": "https://localhost:8080/",
          "height": 472
        },
        "id": "DaJLcmr72add",
        "outputId": "6416e6da-fd75-4410-c9c5-b3045221266f"
      },
      "execution_count": 22,
      "outputs": [
        {
          "output_type": "display_data",
          "data": {
            "text/plain": [
              "<Figure size 640x480 with 1 Axes>"
            ],
            "image/png": "[encoded data removed]"
          },
          "metadata": {}
        }
      ]
    }
  ]
}